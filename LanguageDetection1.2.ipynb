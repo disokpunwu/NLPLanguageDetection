{
 "cells": [
  {
   "cell_type": "code",
   "execution_count": 5,
   "id": "b901a6d9",
   "metadata": {},
   "outputs": [
    {
     "name": "stderr",
     "output_type": "stream",
     "text": [
      "C:\\Users\\danie\\AppData\\Local\\Programs\\Python\\Python310\\lib\\site-packages\\sklearn\\utils\\validation.py:1111: DataConversionWarning: A column-vector y was passed when a 1d array was expected. Please change the shape of y to (n_samples, ), for example using ravel().\n",
      "  y = column_or_1d(y, warn=True)\n"
     ]
    },
    {
     "name": "stdout",
     "output_type": "stream",
     "text": [
      "Enter a Word/ Tango wo nyuryoku shite kudasai:\n",
      "python\n",
      "This is english\n"
     ]
    }
   ],
   "source": [
    "import pandas as pd\n",
    "common = pd.read_csv(\"common.csv\")\n",
    "X = common.iloc[:,1:6]\n",
    "Y = common.iloc[:,6:7]\n",
    "import sklearn as sk\n",
    "from sklearn.model_selection import train_test_split\n",
    "Xtrain, Xtest, Ytrain, Ytest = train_test_split(X,Y, test_size = 1, random_state = 1)\n",
    "from sklearn.linear_model import LogisticRegression\n",
    "logreg = LogisticRegression()\n",
    "logreg.fit(Xtrain, Ytrain)\n",
    "print('Enter a Word/ Tango wo nyuryoku shite kudasai:')\n",
    "x = input()\n",
    "def countvowels(x):\n",
    "    num_vowels=0\n",
    "    for char in x:\n",
    "        if char in \"aeiouAEIOU\":\n",
    "           num_vowels = num_vowels+1\n",
    "    return num_vowels\n",
    "a = countvowels(x)\n",
    "def countconsonants(x):\n",
    "    num_consonants=0\n",
    "    for char in x:\n",
    "        if char in \"bcdfghjklmnpqrstvwxyzBCDFGHJKLMNPQRSTVWXYZ\":\n",
    "           num_consonants = num_consonants+1\n",
    "    return num_consonants\n",
    "b = countconsonants(x)\n",
    "c = len(x)\n",
    "if x.startswith(\"aeiouAEIOU\"):\n",
    "    d=2\n",
    "else:\n",
    "    d=1\n",
    "if x.endswith(\"aeiouAEIOU\"):\n",
    "    e=2\n",
    "else:\n",
    "    e=1\n",
    "word = [[a,b,c,d,e]]\n",
    "df = pd.DataFrame(word, columns=['vowels', 'consenants', 'count', 'beginning', 'ending'])\n",
    "f = logreg.predict(df)\n",
    "if f==1:\n",
    "    print(\"This is english\")\n",
    "else:\n",
    "    print(\"Kore wa nihongo desu\")"
   ]
  },
  {
   "cell_type": "code",
   "execution_count": null,
   "id": "1b82162b",
   "metadata": {},
   "outputs": [],
   "source": []
  }
 ],
 "metadata": {
  "kernelspec": {
   "display_name": "Python 3 (ipykernel)",
   "language": "python",
   "name": "python3"
  },
  "language_info": {
   "codemirror_mode": {
    "name": "ipython",
    "version": 3
   },
   "file_extension": ".py",
   "mimetype": "text/x-python",
   "name": "python",
   "nbconvert_exporter": "python",
   "pygments_lexer": "ipython3",
   "version": "3.10.8"
  }
 },
 "nbformat": 4,
 "nbformat_minor": 5
}
